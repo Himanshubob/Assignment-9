{
 "cells": [
  {
   "cell_type": "markdown",
   "id": "752b76d0",
   "metadata": {},
   "source": [
    "# Q1.. what is an API? given an exmple ,where an API is used in real life >>"
   ]
  },
  {
   "cell_type": "markdown",
   "id": "518ce21c",
   "metadata": {},
   "source": [
    "# ans>>  application programing interface\n"
   ]
  },
  {
   "cell_type": "markdown",
   "id": "98f69fd8",
   "metadata": {},
   "source": [
    "# 1.. gmail.                                    2.. google search engen               3..amazon"
   ]
  },
  {
   "cell_type": "markdown",
   "id": "a9982cfe",
   "metadata": {},
   "source": [
    "# weding card printing  and weding card distibeut"
   ]
  },
  {
   "cell_type": "markdown",
   "id": "63450141",
   "metadata": {},
   "source": [
    "# Q 2.. given advantage and disadvantage of using API"
   ]
  },
  {
   "cell_type": "markdown",
   "id": "4e9ff9ef",
   "metadata": {},
   "source": [
    "# advantage    = 1) any question search esaly  2) change mail esaly"
   ]
  },
  {
   "cell_type": "markdown",
   "id": "f4f0c154",
   "metadata": {},
   "source": [
    "# disadvantages = 1) not stor the data in api"
   ]
  },
  {
   "cell_type": "markdown",
   "id": "7437ade8",
   "metadata": {},
   "source": [
    "# Q3. what is the web Api? differentiate b/w  api and web api"
   ]
  },
  {
   "cell_type": "markdown",
   "id": "c71ab36e",
   "metadata": {},
   "source": [
    "# web api is sub-set of api"
   ]
  },
  {
   "cell_type": "markdown",
   "id": "d93eb522",
   "metadata": {},
   "source": [
    "# Q4.. explain rest and soap architecture .mention shortcoming of soap"
   ]
  },
  {
   "cell_type": "markdown",
   "id": "30cfb8f2",
   "metadata": {},
   "source": [
    "# rest is based on web api and use of HTTP"
   ]
  },
  {
   "cell_type": "markdown",
   "id": "3a62e5c6",
   "metadata": {},
   "source": [
    "# sopa based of xml and use of all like HTTP,SMTP,TCP "
   ]
  },
  {
   "cell_type": "markdown",
   "id": "f6d39362",
   "metadata": {},
   "source": [
    "# Q5.. differentiate b/w rest and sopa"
   ]
  },
  {
   "cell_type": "markdown",
   "id": "923af8d5",
   "metadata": {},
   "source": [
    "# rest apply easy  compyar to sopa "
   ]
  },
  {
   "cell_type": "markdown",
   "id": "229ac245",
   "metadata": {},
   "source": [
    "# * sopa is light wight "
   ]
  },
  {
   "cell_type": "markdown",
   "id": "4f02fcd7",
   "metadata": {},
   "source": [
    "# *  sopa is secore of data "
   ]
  },
  {
   "cell_type": "code",
   "execution_count": null,
   "id": "3822c274",
   "metadata": {},
   "outputs": [],
   "source": []
  }
 ],
 "metadata": {
  "kernelspec": {
   "display_name": "Python 3 (ipykernel)",
   "language": "python",
   "name": "python3"
  },
  "language_info": {
   "codemirror_mode": {
    "name": "ipython",
    "version": 3
   },
   "file_extension": ".py",
   "mimetype": "text/x-python",
   "name": "python",
   "nbconvert_exporter": "python",
   "pygments_lexer": "ipython3",
   "version": "3.10.9"
  }
 },
 "nbformat": 4,
 "nbformat_minor": 5
}
